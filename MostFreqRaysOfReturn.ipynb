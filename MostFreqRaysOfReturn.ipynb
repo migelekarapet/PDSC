{
 "cells": [
  {
   "cell_type": "code",
   "execution_count": 1,
   "metadata": {},
   "outputs": [],
   "source": [
    "import sys\n",
    "import os\n",
    "import re\n",
    "import string\n",
    "import sklearn\n",
    "import numpy as np\n",
    "import pandas as pd\n",
    "import datetime\n",
    "from pandas import DataFrame\n",
    "from datetime import datetime\n",
    "from datetime import timedelta\n",
    "import csv\n",
    "import pdb\n",
    "\n",
    "\n",
    "#from sklearn.linear_model import LogisticRegression\n",
    "#from sklearn.metrics import make_scorer, accuracy_score\n",
    "#try:\n",
    "#    from sklearn.model_selection import train_test_split\n",
    "#except:\n",
    "#    from sklearn.cross_validation import train_test_split\n",
    "#from sklearn.metrics import classification_report\n",
    "#from sklearn.feature_extraction.text import CountVectorizer\n",
    "#from sklearn.utils import shuffle\n",
    "\n",
    "#import html\n",
    "#import collections\n",
    "#from collections import Counter\n",
    "import operator\n",
    "\n",
    "import matplotlib.pyplot as plt\n",
    "#import seaborn as sns"
   ]
  },
  {
   "cell_type": "code",
   "execution_count": 2,
   "metadata": {},
   "outputs": [],
   "source": [
    "path = 'C:\\\\Users\\\\Owner\\\\git\\\\IQFeed'\n",
    "os.chdir(path)"
   ]
  },
  {
   "cell_type": "code",
   "execution_count": 3,
   "metadata": {},
   "outputs": [
    {
     "data": {
      "text/html": [
       "<div>\n",
       "<style scoped>\n",
       "    .dataframe tbody tr th:only-of-type {\n",
       "        vertical-align: middle;\n",
       "    }\n",
       "\n",
       "    .dataframe tbody tr th {\n",
       "        vertical-align: top;\n",
       "    }\n",
       "\n",
       "    .dataframe thead th {\n",
       "        text-align: right;\n",
       "    }\n",
       "</style>\n",
       "<table border=\"1\" class=\"dataframe\">\n",
       "  <thead>\n",
       "    <tr style=\"text-align: right;\">\n",
       "      <th></th>\n",
       "      <th>2010-01-04 9:31</th>\n",
       "      <th>1120.5</th>\n",
       "      <th>1119.25</th>\n",
       "      <th>1119.5</th>\n",
       "      <th>1120</th>\n",
       "      <th>203257</th>\n",
       "      <th>14209</th>\n",
       "    </tr>\n",
       "  </thead>\n",
       "  <tbody>\n",
       "    <tr>\n",
       "      <th>0</th>\n",
       "      <td>2010-01-04 9:32</td>\n",
       "      <td>1120.75</td>\n",
       "      <td>1119.75</td>\n",
       "      <td>1119.75</td>\n",
       "      <td>1120.25</td>\n",
       "      <td>212433</td>\n",
       "      <td>9176</td>\n",
       "    </tr>\n",
       "    <tr>\n",
       "      <th>1</th>\n",
       "      <td>2010-01-04 9:33</td>\n",
       "      <td>1120.25</td>\n",
       "      <td>1119.75</td>\n",
       "      <td>1120.25</td>\n",
       "      <td>1120.25</td>\n",
       "      <td>215851</td>\n",
       "      <td>3418</td>\n",
       "    </tr>\n",
       "    <tr>\n",
       "      <th>2</th>\n",
       "      <td>2010-01-04 9:34</td>\n",
       "      <td>1120.25</td>\n",
       "      <td>1119.75</td>\n",
       "      <td>1120.25</td>\n",
       "      <td>1120.00</td>\n",
       "      <td>220853</td>\n",
       "      <td>5002</td>\n",
       "    </tr>\n",
       "    <tr>\n",
       "      <th>3</th>\n",
       "      <td>2010-01-04 9:35</td>\n",
       "      <td>1120.00</td>\n",
       "      <td>1119.75</td>\n",
       "      <td>1119.75</td>\n",
       "      <td>1120.00</td>\n",
       "      <td>223226</td>\n",
       "      <td>2373</td>\n",
       "    </tr>\n",
       "    <tr>\n",
       "      <th>4</th>\n",
       "      <td>2010-01-04 9:36</td>\n",
       "      <td>1121.75</td>\n",
       "      <td>1119.75</td>\n",
       "      <td>1119.75</td>\n",
       "      <td>1121.75</td>\n",
       "      <td>236382</td>\n",
       "      <td>13156</td>\n",
       "    </tr>\n",
       "  </tbody>\n",
       "</table>\n",
       "</div>"
      ],
      "text/plain": [
       "   2010-01-04 9:31   1120.5  1119.25   1119.5     1120  203257  14209\n",
       "0  2010-01-04 9:32  1120.75  1119.75  1119.75  1120.25  212433   9176\n",
       "1  2010-01-04 9:33  1120.25  1119.75  1120.25  1120.25  215851   3418\n",
       "2  2010-01-04 9:34  1120.25  1119.75  1120.25  1120.00  220853   5002\n",
       "3  2010-01-04 9:35  1120.00  1119.75  1119.75  1120.00  223226   2373\n",
       "4  2010-01-04 9:36  1121.75  1119.75  1119.75  1121.75  236382  13156"
      ]
     },
     "execution_count": 3,
     "metadata": {},
     "output_type": "execute_result"
    }
   ],
   "source": [
    "df_entire = pd.read_csv('@ES#-60-20100104 000000-20131231_real.csv')\n",
    "df_entire.head()"
   ]
  },
  {
   "cell_type": "code",
   "execution_count": null,
   "metadata": {},
   "outputs": [],
   "source": [
    "df_entire.iloc[0][0]"
   ]
  },
  {
   "cell_type": "code",
   "execution_count": null,
   "metadata": {},
   "outputs": [],
   "source": [
    "len(df_entire)"
   ]
  },
  {
   "cell_type": "code",
   "execution_count": 5,
   "metadata": {},
   "outputs": [
    {
     "name": "stderr",
     "output_type": "stream",
     "text": [
      "C:\\Users\\Owner\\Anaconda3\\lib\\site-packages\\pandas\\core\\indexing.py:194: SettingWithCopyWarning: \n",
      "A value is trying to be set on a copy of a slice from a DataFrame\n",
      "\n",
      "See the caveats in the documentation: http://pandas.pydata.org/pandas-docs/stable/indexing.html#indexing-view-versus-copy\n",
      "  self._setitem_with_indexer(indexer, value)\n"
     ]
    }
   ],
   "source": [
    "with open('@ES#-60-20100104 000000-20131231_real.csv') as csvfile:\n",
    "    readCSV = csv.reader(csvfile, delimiter=',')\n",
    "    #dt = []\n",
    "    #close = []\n",
    "    #pdb.set_trace()\n",
    "    last_day = datetime.strptime('1970-01-03 1:30:00', '%Y-%m-%d %H:%M:%S').date()\n",
    "    close_prev = float(0.0)\n",
    "    epsilon = float(1.0)\n",
    "    counter = float(0.0)\n",
    "    close_tmp = float(0.0)\n",
    "    weekdays_df = {'weekday': ['Monday','Tuesday','Wednesday','Thursday','Friday'], 'freq': [0,0,0,0,0]}\n",
    "    df = pd.DataFrame(data=weekdays_df)\n",
    "    \n",
    "    for row in readCSV:\n",
    "        dates=datetime.strptime(row[0],'%Y-%m-%d %H:%M').date()\n",
    "        curr_weekday = last_day.weekday()\n",
    "        if last_day == dates:\n",
    "            close_tmp = float(row[4]) #10 for Jan 2, 2014 last entry \n",
    "            # above: finding a way to capture last day's closing price if it's last row of \n",
    "            # current day for both cases of this if statement\n",
    "            if abs((float(row[4]) - close_prev))  < epsilon:\n",
    "                df['freq'].iloc[curr_weekday] += 1\n",
    "\n",
    "            # above: finding a way to capture last day's closing price if it's last row of \n",
    "            # current day for both cases of this if statement            \n",
    "        \n",
    "        elif last_day < dates and not last_day == datetime.strptime('1970-01-03 1:30:00', '%Y-%m-%d %H:%M:%S').date():\n",
    "            last_day = dates\n",
    "            # day has just changed; fixate the close price from previous entry (last entry of prev. day)\n",
    "            close_prev = close_tmp\n",
    "            # this statement is executed only once in case if day has just changed, so we need to exctact current weekday here\n",
    "            curr_weekday = last_day.weekday()\n",
    "            # comparison executed once during  daytime - not to loose the first fow of the new day\n",
    "            if (abs((float(row[4]) - close_prev))  < epsilon):\n",
    "                df['freq'].iloc[curr_weekday] += 1\n",
    "        elif last_day == datetime.strptime('1970-01-03 1:30:00', '%Y-%m-%d %H:%M:%S').date():\n",
    "            last_day = dates\n",
    "            curr_weekday = last_day.weekday()\n",
    "            close_prev = float(row[4])\n",
    "    \n",
    "# now, remember our lists?\n",
    "\n",
    "#    whatColor = input('What color do you wish to know the date of?:')\n",
    "#   coldex = colors.index(whatColor)\n",
    "#   theDate = dates[coldex]\n",
    "#   print('The date of',whatColor,'is:',theDate)"
   ]
  },
  {
   "cell_type": "code",
   "execution_count": 6,
   "metadata": {},
   "outputs": [
    {
     "data": {
      "text/html": [
       "<div>\n",
       "<style scoped>\n",
       "    .dataframe tbody tr th:only-of-type {\n",
       "        vertical-align: middle;\n",
       "    }\n",
       "\n",
       "    .dataframe tbody tr th {\n",
       "        vertical-align: top;\n",
       "    }\n",
       "\n",
       "    .dataframe thead th {\n",
       "        text-align: right;\n",
       "    }\n",
       "</style>\n",
       "<table border=\"1\" class=\"dataframe\">\n",
       "  <thead>\n",
       "    <tr style=\"text-align: right;\">\n",
       "      <th></th>\n",
       "      <th>freq</th>\n",
       "      <th>weekday</th>\n",
       "    </tr>\n",
       "  </thead>\n",
       "  <tbody>\n",
       "    <tr>\n",
       "      <th>0</th>\n",
       "      <td>7547</td>\n",
       "      <td>Monday</td>\n",
       "    </tr>\n",
       "    <tr>\n",
       "      <th>1</th>\n",
       "      <td>6028</td>\n",
       "      <td>Tuesday</td>\n",
       "    </tr>\n",
       "    <tr>\n",
       "      <th>2</th>\n",
       "      <td>6852</td>\n",
       "      <td>Wednesday</td>\n",
       "    </tr>\n",
       "    <tr>\n",
       "      <th>3</th>\n",
       "      <td>6312</td>\n",
       "      <td>Thursday</td>\n",
       "    </tr>\n",
       "    <tr>\n",
       "      <th>4</th>\n",
       "      <td>7727</td>\n",
       "      <td>Friday</td>\n",
       "    </tr>\n",
       "  </tbody>\n",
       "</table>\n",
       "</div>"
      ],
      "text/plain": [
       "   freq    weekday\n",
       "0  7547     Monday\n",
       "1  6028    Tuesday\n",
       "2  6852  Wednesday\n",
       "3  6312   Thursday\n",
       "4  7727     Friday"
      ]
     },
     "execution_count": 6,
     "metadata": {},
     "output_type": "execute_result"
    }
   ],
   "source": [
    "df"
   ]
  },
  {
   "cell_type": "code",
   "execution_count": 8,
   "metadata": {},
   "outputs": [
    {
     "data": {
      "image/png": "[encoded data removed]",
      "text/plain": [
       "<matplotlib.figure.Figure at 0x195ea6d7908>"
      ]
     },
     "metadata": {},
     "output_type": "display_data"
    }
   ],
   "source": [
    "alphab = ['Mon','Tue','Wed','Th','Fr']\n",
    "pos = np.arange(len(alphab))\n",
    "width = 1.0     # gives histogram aspect to the bar diagram\n",
    "\n",
    "#ax = plt.axes()\n",
    "#ax.set_xticks(pos)\n",
    "#ax.set_xticklabels(alphab)\n",
    "\n",
    "fig, ax = plt.subplots()\n",
    "ax.set_ylabel('cross times')\n",
    "ax.set_title('Number of times price crossed PDSC within 4 ticks range')\n",
    "ax.set_xticks(pos)\n",
    "ax.set_xticklabels(alphab)\n",
    "\n",
    "fig = plt.bar(pos, df['freq'], width=0.2, color='b')\n",
    "plt.show()\n"
   ]
  },
  {
   "cell_type": "code",
   "execution_count": null,
   "metadata": {},
   "outputs": [],
   "source": [
    "#print(len(close))"
   ]
  },
  {
   "cell_type": "code",
   "execution_count": null,
   "metadata": {},
   "outputs": [],
   "source": []
  },
  {
   "cell_type": "code",
   "execution_count": null,
   "metadata": {},
   "outputs": [],
   "source": [
    "def retrace_per_day(day, col='close', epsilon=0.5):\n",
    "    \"\"\"take day data and returns whether there was a retrace.\n",
    "    If yes, return 1 and the minute in which it did.\n",
    "    Otherwise return 0 and np.nan\"\"\"\n",
    "    cond = (np.abs(day[col] - day[col][0]) < epsilon)\n",
    "    cond_index = cond[cond].index\n",
    "    if len(cond_index) > 1:\n",
    "        retrace, period = 1, cond_index[1]\n",
    "    else:\n",
    "        retrace, period = 0, np.nan\n",
    "    return pd.Series({'retrace': retrace, 'period' : period})"
   ]
  },
  {
   "cell_type": "code",
   "execution_count": null,
   "metadata": {},
   "outputs": [],
   "source": [
    "#temporary df for closing dates - might be obsolete soon\n",
    "index = pd.date_range(0, periods=len(df['datetime'])/390, freq='D')\n",
    "columns = ['date','day_close']\n",
    "df_close = pd.DataFrame(index=index, columns=columns)\n",
    "df_close = df_close.fillna(0) # with 0s rather than NaNs\n"
   ]
  },
  {
   "cell_type": "code",
   "execution_count": null,
   "metadata": {},
   "outputs": [],
   "source": [
    "df_close.head()"
   ]
  },
  {
   "cell_type": "code",
   "execution_count": null,
   "metadata": {},
   "outputs": [],
   "source": [
    "df['datetime'].iloc[388]"
   ]
  },
  {
   "cell_type": "code",
   "execution_count": null,
   "metadata": {},
   "outputs": [],
   "source": [
    "t = pd.DataFrame({'date': [pd.to_datetime('2012-12-31 15:59:00'), pd.to_datetime('2013-12-31 15:59:00')], 'sample_data': [1, 2]})\n",
    "t['date'][0]"
   ]
  },
  {
   "cell_type": "code",
   "execution_count": null,
   "metadata": {},
   "outputs": [],
   "source": [
    "length = len(df['datetime'])\n",
    "i = 389\n",
    "x = []\n",
    "\n",
    "while i <= length:\n",
    "    x.append(df['datetime'].iloc[::i])\n",
    "    i +=390\n",
    "    #df_close.iloc[i][1] = df['close'].iloc[388]"
   ]
  },
  {
   "cell_type": "code",
   "execution_count": null,
   "metadata": {},
   "outputs": [],
   "source": [
    "x"
   ]
  },
  {
   "cell_type": "code",
   "execution_count": null,
   "metadata": {},
   "outputs": [],
   "source": [
    "df['datetime'].iloc[388]"
   ]
  },
  {
   "cell_type": "code",
   "execution_count": null,
   "metadata": {},
   "outputs": [],
   "source": [
    "df['datetime'] = pd.to_datetime(df['datetime'])\n",
    "for idx, day in df.groupby(pd.Grouper(key='datetime', freq=\"1D\")):\n",
    "    print(day['datetime']) \n",
    "    print(day['close']) \n",
    "    \n",
    "    "
   ]
  },
  {
   "cell_type": "code",
   "execution_count": null,
   "metadata": {},
   "outputs": [],
   "source": []
  },
  {
   "cell_type": "code",
   "execution_count": null,
   "metadata": {},
   "outputs": [],
   "source": [
    "length = len(df['datetime'])/390\n",
    "length"
   ]
  },
  {
   "cell_type": "code",
   "execution_count": null,
   "metadata": {},
   "outputs": [],
   "source": [
    "#day.iloc[388][4]"
   ]
  },
  {
   "cell_type": "code",
   "execution_count": null,
   "metadata": {},
   "outputs": [],
   "source": [
    "len(day)"
   ]
  },
  {
   "cell_type": "code",
   "execution_count": null,
   "metadata": {},
   "outputs": [],
   "source": [
    "len(day)"
   ]
  },
  {
   "cell_type": "code",
   "execution_count": null,
   "metadata": {},
   "outputs": [],
   "source": [
    "#df.groupby(pd.TimeGrouper('1D')).apply(retrace_per_day)\n",
    "df['datetime'] = pd.to_datetime(df['datetime'])\n",
    "df.groupby(pd.Grouper(key='datetime', freq=\"1D\")).mean().plot()"
   ]
  },
  {
   "cell_type": "code",
   "execution_count": null,
   "metadata": {},
   "outputs": [],
   "source": [
    "type(day)"
   ]
  },
  {
   "cell_type": "code",
   "execution_count": null,
   "metadata": {},
   "outputs": [],
   "source": []
  }
 ],
 "metadata": {
  "kernelspec": {
   "display_name": "Python 3",
   "language": "python",
   "name": "python3"
  },
  "language_info": {
   "codemirror_mode": {
    "name": "ipython",
    "version": 3
   },
   "file_extension": ".py",
   "mimetype": "text/x-python",
   "name": "python",
   "nbconvert_exporter": "python",
   "pygments_lexer": "ipython3",
   "version": "3.6.4"
  }
 },
 "nbformat": 4,
 "nbformat_minor": 2
}
